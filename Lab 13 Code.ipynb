{
 "cells": [
  {
   "cell_type": "raw",
   "metadata": {},
   "source": [
    "import calc as c\n",
    "import testing as t"
   ]
  },
  {
   "cell_type": "code",
   "execution_count": 54,
   "metadata": {
    "collapsed": false
   },
   "outputs": [],
   "source": [
    "import calc as c\n",
    "import testing as t"
   ]
  },
  {
   "cell_type": "code",
   "execution_count": 55,
   "metadata": {
    "collapsed": true
   },
   "outputs": [],
   "source": [
    "s = '4+4'"
   ]
  },
  {
   "cell_type": "code",
   "execution_count": 56,
   "metadata": {
    "collapsed": false
   },
   "outputs": [
    {
     "name": "stdout",
     "output_type": "stream",
     "text": [
      "8\n"
     ]
    }
   ],
   "source": [
    "print(c.calc(s))"
   ]
  },
  {
   "cell_type": "code",
   "execution_count": 57,
   "metadata": {
    "collapsed": false
   },
   "outputs": [
    {
     "ename": "AttributeError",
     "evalue": "module 'testing' has no attribute 'testAddition'",
     "output_type": "error",
     "traceback": [
      "\u001b[0;31m---------------------------------------------------------------------------\u001b[0m",
      "\u001b[0;31mAttributeError\u001b[0m                            Traceback (most recent call last)",
      "\u001b[0;32m<ipython-input-57-bca433e9a662>\u001b[0m in \u001b[0;36m<module>\u001b[0;34m()\u001b[0m\n\u001b[0;32m----> 1\u001b[0;31m \u001b[0mt\u001b[0m\u001b[0;34m.\u001b[0m\u001b[0mtestAddition\u001b[0m\u001b[0;34m(\u001b[0m\u001b[0;34m)\u001b[0m\u001b[0;34m\u001b[0m\u001b[0m\n\u001b[0m",
      "\u001b[0;31mAttributeError\u001b[0m: module 'testing' has no attribute 'testAddition'"
     ]
    }
   ],
   "source": [
    "t.testAddition()"
   ]
  },
  {
   "cell_type": "code",
   "execution_count": 58,
   "metadata": {
    "collapsed": false
   },
   "outputs": [
    {
     "name": "stdout",
     "output_type": "stream",
     "text": [
      "testAddition (__main__.CalcTest) ... 10\r\n",
      "+1\r\n",
      "ok\r\n",
      "testDivision (__main__.CalcTest) ... 8\r\n",
      "/2\r\n",
      "ERROR\r\n",
      "testMultiplciation (__main__.CalcTest) ... 3\r\n",
      "*1\r\n",
      "ERROR\r\n",
      "testSubtraction (__main__.CalcTest) ... 10\r\n",
      "-8\r\n",
      "FAIL\r\n",
      "\r\n",
      "======================================================================\r\n",
      "ERROR: testDivision (__main__.CalcTest)\r\n",
      "----------------------------------------------------------------------\r\n",
      "Traceback (most recent call last):\r\n",
      "  File \"testing.py\", line 22, in testDivision\r\n",
      "    self.assertEqual(calc.calc('8/2'), 4)\r\n",
      "  File \"/Users/scottblankenberg/Physics91SI/sblankenAtStanford-lab13/calc.py\", line 32, in calc\r\n",
      "    return int(num1)/int(num2)\r\n",
      "ValueError: invalid literal for int() with base 10: '/2'\r\n",
      "\r\n",
      "======================================================================\r\n",
      "ERROR: testMultiplciation (__main__.CalcTest)\r\n",
      "----------------------------------------------------------------------\r\n",
      "Traceback (most recent call last):\r\n",
      "  File \"testing.py\", line 19, in testMultiplciation\r\n",
      "    self.assertEqual(calc.calc('3*1'), 3)\r\n",
      "  File \"/Users/scottblankenberg/Physics91SI/sblankenAtStanford-lab13/calc.py\", line 30, in calc\r\n",
      "    return int(num1)*int(num2)\r\n",
      "ValueError: invalid literal for int() with base 10: '*1'\r\n",
      "\r\n",
      "======================================================================\r\n",
      "FAIL: testSubtraction (__main__.CalcTest)\r\n",
      "----------------------------------------------------------------------\r\n",
      "Traceback (most recent call last):\r\n",
      "  File \"testing.py\", line 16, in testSubtraction\r\n",
      "    self.assertEqual(calc.calc('10-8'), 2)\r\n",
      "AssertionError: 18 != 2\r\n",
      "\r\n",
      "----------------------------------------------------------------------\r\n",
      "Ran 4 tests in 0.001s\r\n",
      "\r\n",
      "FAILED (failures=1, errors=2)\r\n"
     ]
    }
   ],
   "source": [
    "!python testing.py -v"
   ]
  },
  {
   "cell_type": "code",
   "execution_count": null,
   "metadata": {
    "collapsed": true
   },
   "outputs": [],
   "source": []
  }
 ],
 "metadata": {
  "kernelspec": {
   "display_name": "Python 3",
   "language": "python",
   "name": "python3"
  },
  "language_info": {
   "codemirror_mode": {
    "name": "ipython",
    "version": 3
   },
   "file_extension": ".py",
   "mimetype": "text/x-python",
   "name": "python",
   "nbconvert_exporter": "python",
   "pygments_lexer": "ipython3",
   "version": "3.5.1"
  }
 },
 "nbformat": 4,
 "nbformat_minor": 0
}
